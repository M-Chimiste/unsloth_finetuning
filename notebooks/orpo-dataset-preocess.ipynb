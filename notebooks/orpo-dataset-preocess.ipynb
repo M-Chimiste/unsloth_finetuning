{
 "cells": [
  {
   "cell_type": "code",
   "execution_count": 8,
   "id": "7821d909-64b1-400b-9be5-82bf0c6fe88e",
   "metadata": {},
   "outputs": [],
   "source": [
    "import json\n",
    "from tqdm import tqdm\n",
    "from transformers import AutoTokenizer\n",
    "import datasets\n",
    "import random\n",
    "import pandas as pd"
   ]
  },
  {
   "cell_type": "code",
   "execution_count": 5,
   "id": "e44049f7-d442-42ae-bec5-567f3c57924d",
   "metadata": {},
   "outputs": [
    {
     "name": "stderr",
     "output_type": "stream",
     "text": [
      "Special tokens have been added in the vocabulary, make sure the associated word embeddings are fine-tuned or trained.\n"
     ]
    }
   ],
   "source": [
    "tokenizer = AutoTokenizer.from_pretrained(\"weights/phi-3-wizardlm_merged\")"
   ]
  },
  {
   "cell_type": "code",
   "execution_count": 32,
   "id": "1e5a15fa-1f1e-46d4-8ae7-1feaada3e256",
   "metadata": {},
   "outputs": [],
   "source": [
    "# Normally I do a random.choice to select a random system prompt, but in this case I kept it constant\n",
    "system_prompts = [\n",
    "    # \"You are a helpful AI assistant.\",\n",
    "    # \"You are an AI assistant that follows instruction extremely well. Help as much as you can.\",\n",
    "    # \"You are a friendly chatbot who answers without hesitation.\",\n",
    "    \"You are a helpful AI assistant who answers without hesitation.\"\n",
    "]"
   ]
  },
  {
   "cell_type": "code",
   "execution_count": 11,
   "id": "d7f06fc3-a164-47ec-b495-f68feb46021a",
   "metadata": {},
   "outputs": [],
   "source": [
    "data = \"data/orpo-dpo-mix-40k/data/train-00000-of-00001.parquet\" # raw data from https://huggingface.co/datasets/mlabonne/orpo-dpo-mix-40k\n",
    "df = pd.read_parquet(data)"
   ]
  },
  {
   "cell_type": "code",
   "execution_count": 12,
   "id": "922a35f1-657e-443d-ae62-ca381fed4988",
   "metadata": {},
   "outputs": [
    {
     "data": {
      "text/html": [
       "<div>\n",
       "<style scoped>\n",
       "    .dataframe tbody tr th:only-of-type {\n",
       "        vertical-align: middle;\n",
       "    }\n",
       "\n",
       "    .dataframe tbody tr th {\n",
       "        vertical-align: top;\n",
       "    }\n",
       "\n",
       "    .dataframe thead th {\n",
       "        text-align: right;\n",
       "    }\n",
       "</style>\n",
       "<table border=\"1\" class=\"dataframe\">\n",
       "  <thead>\n",
       "    <tr style=\"text-align: right;\">\n",
       "      <th></th>\n",
       "      <th>source</th>\n",
       "      <th>chosen</th>\n",
       "      <th>rejected</th>\n",
       "      <th>prompt</th>\n",
       "    </tr>\n",
       "  </thead>\n",
       "  <tbody>\n",
       "    <tr>\n",
       "      <th>0</th>\n",
       "      <td>Airoboros</td>\n",
       "      <td>[{'content': 'The setting is an otherworldly, ...</td>\n",
       "      <td>[{'content': 'The setting is an otherworldly, ...</td>\n",
       "      <td>The setting is an otherworldly, yet eerily fam...</td>\n",
       "    </tr>\n",
       "    <tr>\n",
       "      <th>1</th>\n",
       "      <td>EverythingLM</td>\n",
       "      <td>[{'content': 'How many colors are traditionall...</td>\n",
       "      <td>[{'content': 'How many colors are traditionall...</td>\n",
       "      <td>How many colors are traditionally recognized i...</td>\n",
       "    </tr>\n",
       "    <tr>\n",
       "      <th>2</th>\n",
       "      <td>EverythingLM</td>\n",
       "      <td>[{'content': 'In a basket, there are 20 orange...</td>\n",
       "      <td>[{'content': 'In a basket, there are 20 orange...</td>\n",
       "      <td>In a basket, there are 20 oranges, 60 apples, ...</td>\n",
       "    </tr>\n",
       "    <tr>\n",
       "      <th>3</th>\n",
       "      <td>Airoboros</td>\n",
       "      <td>[{'content': 'Which famous physicist developed...</td>\n",
       "      <td>[{'content': 'Which famous physicist developed...</td>\n",
       "      <td>Which famous physicist developed the theory of...</td>\n",
       "    </tr>\n",
       "    <tr>\n",
       "      <th>4</th>\n",
       "      <td>GOAT</td>\n",
       "      <td>[{'content': 'Find 40 * 865. Exclude words; sh...</td>\n",
       "      <td>[{'content': 'Find 40 * 865. Exclude words; sh...</td>\n",
       "      <td>Find 40 * 865. Exclude words; show only the math.</td>\n",
       "    </tr>\n",
       "  </tbody>\n",
       "</table>\n",
       "</div>"
      ],
      "text/plain": [
       "         source                                             chosen  \\\n",
       "0     Airoboros  [{'content': 'The setting is an otherworldly, ...   \n",
       "1  EverythingLM  [{'content': 'How many colors are traditionall...   \n",
       "2  EverythingLM  [{'content': 'In a basket, there are 20 orange...   \n",
       "3     Airoboros  [{'content': 'Which famous physicist developed...   \n",
       "4          GOAT  [{'content': 'Find 40 * 865. Exclude words; sh...   \n",
       "\n",
       "                                            rejected  \\\n",
       "0  [{'content': 'The setting is an otherworldly, ...   \n",
       "1  [{'content': 'How many colors are traditionall...   \n",
       "2  [{'content': 'In a basket, there are 20 orange...   \n",
       "3  [{'content': 'Which famous physicist developed...   \n",
       "4  [{'content': 'Find 40 * 865. Exclude words; sh...   \n",
       "\n",
       "                                              prompt  \n",
       "0  The setting is an otherworldly, yet eerily fam...  \n",
       "1  How many colors are traditionally recognized i...  \n",
       "2  In a basket, there are 20 oranges, 60 apples, ...  \n",
       "3  Which famous physicist developed the theory of...  \n",
       "4  Find 40 * 865. Exclude words; show only the math.  "
      ]
     },
     "execution_count": 12,
     "metadata": {},
     "output_type": "execute_result"
    }
   ],
   "source": [
    "df.head()"
   ]
  },
  {
   "cell_type": "code",
   "execution_count": 40,
   "id": "7f2bc959-1c1f-48da-9a16-5e420581344d",
   "metadata": {},
   "outputs": [],
   "source": [
    "chosen = list(df['chosen'])\n",
    "rejected = list(df['rejected'])\n",
    "prompts = list(df['prompt'])"
   ]
  },
  {
   "cell_type": "code",
   "execution_count": 34,
   "id": "06030344-f48d-4c45-a1a4-7a220f80879b",
   "metadata": {},
   "outputs": [],
   "source": [
    "def parse_conversation(conversation):\n",
    "    prompt = \"\"\n",
    "    for i in conversation:\n",
    "        content = i['content']\n",
    "        role = i['role']\n",
    "        if role == 'user':\n",
    "            prompt += f\"<|user|>\\n{content}<|end|>\"\n",
    "        if role == 'system':\n",
    "            prompt += f\"<|system|>\\n{content}<|end|>\"\n",
    "        if role == 'assistant':\n",
    "            prompt += f\"<|assistant|>\\n{content}<|end|>\"\n",
    "    if \"<|system|>\" not in prompt:\n",
    "        prompt = f\"<|system|>\\n{random.choice(system_prompts)}<|end|>\" + prompt\n",
    "    return prompt"
   ]
  },
  {
   "cell_type": "code",
   "execution_count": 35,
   "id": "71c303a4-0a40-470f-b902-88880abd246e",
   "metadata": {},
   "outputs": [
    {
     "name": "stderr",
     "output_type": "stream",
     "text": [
      "100%|██████████████████████████████████████████████████████████████████████| 44245/44245 [00:26<00:00, 1685.40it/s]\n"
     ]
    }
   ],
   "source": [
    "chosen_prompts = []\n",
    "token_len = []\n",
    "for i in tqdm(chosen):\n",
    "    i = list(i)\n",
    "    prompt = parse_conversation(i)\n",
    "    tokens = len(tokenizer(prompt)['input_ids'])\n",
    "    token_len.append(tokens)\n",
    "    chosen_prompts.append(prompt)"
   ]
  },
  {
   "cell_type": "code",
   "execution_count": 36,
   "id": "6be6a38f-b845-4f63-91db-c10689ca372d",
   "metadata": {},
   "outputs": [
    {
     "name": "stderr",
     "output_type": "stream",
     "text": [
      "100%|██████████████████████████████████████████████████████████████████████| 44245/44245 [00:21<00:00, 2017.70it/s]\n"
     ]
    }
   ],
   "source": [
    "rejected_prompts = []\n",
    "for i in tqdm(rejected):\n",
    "    i = list(i)\n",
    "    prompt = parse_conversation(i)\n",
    "    tokens = len(tokenizer(prompt)['input_ids'])\n",
    "    rejected_prompts.append(prompt)"
   ]
  },
  {
   "cell_type": "code",
   "execution_count": 41,
   "id": "0c8f6069-6d88-4f83-a92d-26d3f28486a8",
   "metadata": {},
   "outputs": [
    {
     "name": "stderr",
     "output_type": "stream",
     "text": [
      "100%|██████████████████████████████████████████████████████████████████████| 44245/44245 [00:06<00:00, 7290.91it/s]\n"
     ]
    }
   ],
   "source": [
    "processed_prompts = []\n",
    "for i in tqdm(prompts):\n",
    "    prompt = f\"<|system|>{random.choice(system_prompts)}<|end|><|user|>\\n{i}<|end|>\"\n",
    "    tokens = len(tokenizer(prompt)['input_ids'])\n",
    "    processed_prompts.append(prompt)"
   ]
  },
  {
   "cell_type": "code",
   "execution_count": 43,
   "id": "fbbae748-f752-4f41-8f8c-36c23f2de5da",
   "metadata": {},
   "outputs": [],
   "source": [
    "orpo_dataset = []\n",
    "for chosen, rejected, prompt in zip(chosen_prompts, rejected_prompts, processed_prompts):\n",
    "    orpo_dataset.append({'chosen': chosen, 'rejected': rejected, 'prompt': prompt})"
   ]
  },
  {
   "cell_type": "code",
   "execution_count": 44,
   "id": "ff74bb70-e61a-49f0-a01c-2830e764bd7a",
   "metadata": {},
   "outputs": [],
   "source": [
    "with open(\"data/phi-3-orpo-data.json\", 'w') as f:\n",
    "    json.dump(orpo_dataset, f)"
   ]
  },
  {
   "cell_type": "code",
   "execution_count": null,
   "id": "6e06f01f-67ba-4a24-8c81-3d9c98f23e9c",
   "metadata": {},
   "outputs": [],
   "source": []
  }
 ],
 "metadata": {
  "kernelspec": {
   "display_name": "Python 3 (ipykernel)",
   "language": "python",
   "name": "python3"
  },
  "language_info": {
   "codemirror_mode": {
    "name": "ipython",
    "version": 3
   },
   "file_extension": ".py",
   "mimetype": "text/x-python",
   "name": "python",
   "nbconvert_exporter": "python",
   "pygments_lexer": "ipython3",
   "version": "3.10.14"
  }
 },
 "nbformat": 4,
 "nbformat_minor": 5
}
